{
 "cells": [
  {
   "cell_type": "markdown",
   "metadata": {},
   "source": [
    "# Introduction: Feature Selector Usage\n",
    "\n",
    "In this notebook we will walk-through using the `FeatureSelector` class for selecting features to remove from a dataset. This class has five methods for finding features to remove: \n",
    "\n",
    "1. Find columns with a missing fraction greater than a specified threshold\n",
    "2. Find features with only a single unique value\n",
    "3. Find collinear features as identified by a correlation coefficient greater than a specified value\n",
    "4. Find features with 0.0 importance from a gradient boosting machine\n",
    "5. Find features that do not contribute to a specified cumulative feature importance from the gradient boosting machine\n",
    "\n",
    "The FeatureSelector is a work in progress! Any contributions on GitHub are appreciated."
   ]
  },
  {
   "cell_type": "code",
   "execution_count": 4,
   "metadata": {},
   "outputs": [],
   "source": [
    "from feature_selector import FeatureSelector\n",
    "\n",
    "import pandas as pd"
   ]
  },
  {
   "cell_type": "markdown",
   "metadata": {},
   "source": [
    "## Example Dataset\n",
    "\n",
    "This dataset was used as part of the [Home Credit Default Risk competition on Kaggle](https://www.kaggle.com/c/home-credit-default-risk/). It is intended for a supervised machine learning classification task where the objective is to predict if a client will default on a loan. The entire dataset can be downloaded [here] and we will work with a small sample of 10,000 rows. \n",
    "\n",
    "The feature selector was designed to be used for machine learning tasks, but can be applied to any dataset.\\ The feature importance based methods do require a supervised machine learning problem."
   ]
  },
  {
   "cell_type": "code",
   "execution_count": null,
   "metadata": {},
   "outputs": [],
   "source": []
  },
  {
   "cell_type": "code",
   "execution_count": 138,
   "metadata": {},
   "outputs": [
    {
     "data": {
      "text/html": [
       "<div>\n",
       "<style scoped>\n",
       "    .dataframe tbody tr th:only-of-type {\n",
       "        vertical-align: middle;\n",
       "    }\n",
       "\n",
       "    .dataframe tbody tr th {\n",
       "        vertical-align: top;\n",
       "    }\n",
       "\n",
       "    .dataframe thead th {\n",
       "        text-align: right;\n",
       "    }\n",
       "</style>\n",
       "<table border=\"1\" class=\"dataframe\">\n",
       "  <thead>\n",
       "    <tr style=\"text-align: right;\">\n",
       "      <th></th>\n",
       "      <th>FGM</th>\n",
       "      <th>HOME</th>\n",
       "      <th>SHOT_NUMBER</th>\n",
       "      <th>PERIOD</th>\n",
       "      <th>SHOT_CLOCK</th>\n",
       "      <th>DRIBBLES</th>\n",
       "      <th>TOUCH_TIME</th>\n",
       "      <th>SHOT_DIS</th>\n",
       "      <th>CLOSE_DEF_DIST</th>\n",
       "      <th>Height_def</th>\n",
       "      <th>...</th>\n",
       "      <th>FG%_off</th>\n",
       "      <th>3P_off</th>\n",
       "      <th>3PA_off</th>\n",
       "      <th>3P%_off</th>\n",
       "      <th>2P_off</th>\n",
       "      <th>2PA_off</th>\n",
       "      <th>2P%_off</th>\n",
       "      <th>eFG%_off</th>\n",
       "      <th>TOV_off</th>\n",
       "      <th>PTS_off</th>\n",
       "    </tr>\n",
       "  </thead>\n",
       "  <tbody>\n",
       "    <tr>\n",
       "      <th>0</th>\n",
       "      <td>0</td>\n",
       "      <td>0</td>\n",
       "      <td>12</td>\n",
       "      <td>4</td>\n",
       "      <td>9.4</td>\n",
       "      <td>1</td>\n",
       "      <td>2.1</td>\n",
       "      <td>6.83</td>\n",
       "      <td>0.64</td>\n",
       "      <td>196</td>\n",
       "      <td>...</td>\n",
       "      <td>0.434</td>\n",
       "      <td>112</td>\n",
       "      <td>313</td>\n",
       "      <td>0.358</td>\n",
       "      <td>219</td>\n",
       "      <td>450</td>\n",
       "      <td>0.487</td>\n",
       "      <td>0.507</td>\n",
       "      <td>73</td>\n",
       "      <td>845</td>\n",
       "    </tr>\n",
       "    <tr>\n",
       "      <th>1</th>\n",
       "      <td>0</td>\n",
       "      <td>0</td>\n",
       "      <td>7</td>\n",
       "      <td>4</td>\n",
       "      <td>13.0</td>\n",
       "      <td>1</td>\n",
       "      <td>3.6</td>\n",
       "      <td>3.57</td>\n",
       "      <td>1.10</td>\n",
       "      <td>196</td>\n",
       "      <td>...</td>\n",
       "      <td>0.396</td>\n",
       "      <td>167</td>\n",
       "      <td>446</td>\n",
       "      <td>0.374</td>\n",
       "      <td>132</td>\n",
       "      <td>310</td>\n",
       "      <td>0.426</td>\n",
       "      <td>0.506</td>\n",
       "      <td>128</td>\n",
       "      <td>943</td>\n",
       "    </tr>\n",
       "    <tr>\n",
       "      <th>2</th>\n",
       "      <td>1</td>\n",
       "      <td>1</td>\n",
       "      <td>8</td>\n",
       "      <td>2</td>\n",
       "      <td>16.2</td>\n",
       "      <td>9</td>\n",
       "      <td>7.0</td>\n",
       "      <td>1.52</td>\n",
       "      <td>1.46</td>\n",
       "      <td>211</td>\n",
       "      <td>...</td>\n",
       "      <td>0.485</td>\n",
       "      <td>139</td>\n",
       "      <td>349</td>\n",
       "      <td>0.398</td>\n",
       "      <td>429</td>\n",
       "      <td>821</td>\n",
       "      <td>0.523</td>\n",
       "      <td>0.545</td>\n",
       "      <td>190</td>\n",
       "      <td>1564</td>\n",
       "    </tr>\n",
       "    <tr>\n",
       "      <th>3</th>\n",
       "      <td>0</td>\n",
       "      <td>1</td>\n",
       "      <td>5</td>\n",
       "      <td>1</td>\n",
       "      <td>0.0</td>\n",
       "      <td>1</td>\n",
       "      <td>1.4</td>\n",
       "      <td>8.93</td>\n",
       "      <td>1.95</td>\n",
       "      <td>211</td>\n",
       "      <td>...</td>\n",
       "      <td>0.487</td>\n",
       "      <td>286</td>\n",
       "      <td>646</td>\n",
       "      <td>0.443</td>\n",
       "      <td>367</td>\n",
       "      <td>695</td>\n",
       "      <td>0.528</td>\n",
       "      <td>0.594</td>\n",
       "      <td>249</td>\n",
       "      <td>1900</td>\n",
       "    </tr>\n",
       "    <tr>\n",
       "      <th>4</th>\n",
       "      <td>1</td>\n",
       "      <td>1</td>\n",
       "      <td>10</td>\n",
       "      <td>2</td>\n",
       "      <td>19.8</td>\n",
       "      <td>2</td>\n",
       "      <td>3.0</td>\n",
       "      <td>0.73</td>\n",
       "      <td>0.98</td>\n",
       "      <td>211</td>\n",
       "      <td>...</td>\n",
       "      <td>0.468</td>\n",
       "      <td>157</td>\n",
       "      <td>378</td>\n",
       "      <td>0.415</td>\n",
       "      <td>421</td>\n",
       "      <td>857</td>\n",
       "      <td>0.491</td>\n",
       "      <td>0.532</td>\n",
       "      <td>186</td>\n",
       "      <td>1628</td>\n",
       "    </tr>\n",
       "  </tbody>\n",
       "</table>\n",
       "<p>5 rows × 46 columns</p>\n",
       "</div>"
      ],
      "text/plain": [
       "   FGM  HOME  SHOT_NUMBER  PERIOD  SHOT_CLOCK  DRIBBLES  TOUCH_TIME  SHOT_DIS  \\\n",
       "0    0     0           12       4         9.4         1         2.1      6.83   \n",
       "1    0     0            7       4        13.0         1         3.6      3.57   \n",
       "2    1     1            8       2        16.2         9         7.0      1.52   \n",
       "3    0     1            5       1         0.0         1         1.4      8.93   \n",
       "4    1     1           10       2        19.8         2         3.0      0.73   \n",
       "\n",
       "   CLOSE_DEF_DIST  Height_def   ...     FG%_off  3P_off  3PA_off  3P%_off  \\\n",
       "0            0.64         196   ...       0.434     112      313    0.358   \n",
       "1            1.10         196   ...       0.396     167      446    0.374   \n",
       "2            1.46         211   ...       0.485     139      349    0.398   \n",
       "3            1.95         211   ...       0.487     286      646    0.443   \n",
       "4            0.98         211   ...       0.468     157      378    0.415   \n",
       "\n",
       "   2P_off  2PA_off  2P%_off  eFG%_off  TOV_off  PTS_off  \n",
       "0     219      450    0.487     0.507       73      845  \n",
       "1     132      310    0.426     0.506      128      943  \n",
       "2     429      821    0.523     0.545      190     1564  \n",
       "3     367      695    0.528     0.594      249     1900  \n",
       "4     421      857    0.491     0.532      186     1628  \n",
       "\n",
       "[5 rows x 46 columns]"
      ]
     },
     "execution_count": 138,
     "metadata": {},
     "output_type": "execute_result"
    }
   ],
   "source": [
    "\n",
    "\n",
    "train = pd.read_csv('/Users/aruba/Desktop/英属哥伦比亚荣光🌅/COMM 414/shot_logs(original2).csv')\n",
    "train_labels = train['FGM']\n",
    "train.head()"
   ]
  },
  {
   "cell_type": "markdown",
   "metadata": {},
   "source": [
    "There are several categorical columns in the dataset. The `FeatureSelector` handles these using one-hot encoding when using the feature importance based methods."
   ]
  },
  {
   "cell_type": "code",
   "execution_count": 139,
   "metadata": {},
   "outputs": [],
   "source": [
    "train = train.drop(columns = ['FGM'])"
   ]
  },
  {
   "cell_type": "markdown",
   "metadata": {},
   "source": [
    "# Implementation\n",
    "\n",
    "The `FeatureSelector` has five functions for identifying columns to remove:\n",
    "\n",
    "* `identify_missing`\n",
    "* `identify_single_unique`\n",
    "* `identify_collinear`\n",
    "* `identify_zero_importance` \n",
    "* `identify_low_importance`\n",
    "\n",
    "These methods find the features to drop according to specified criteria. The identified features are stored in the `ops` attribute (a Python dictionary) of the `FeatureSelector`. We can remove the identified features manually or use the `remove` function in the  `FeatureSelector` for actually removing the features. "
   ]
  },
  {
   "cell_type": "markdown",
   "metadata": {},
   "source": [
    "### Create the Instance\n",
    "\n",
    "The `FeatureSelector` only requires a dataset with observations in the rows and features in the columns (standard structured data). We are working with a classifified machine learning problem so we also pass in training labels."
   ]
  },
  {
   "cell_type": "code",
   "execution_count": 140,
   "metadata": {},
   "outputs": [],
   "source": [
    "fs = FeatureSelector(data = train, labels = train_labels)"
   ]
  },
  {
   "cell_type": "markdown",
   "metadata": {},
   "source": [
    "# 1. Missing Values\n",
    "\n",
    "The first feature selection method is straightforward: find any columns with a missing fraction greater than a specified threshold. For this example we will use a threhold of 0.6 which corresponds to finding features with more than 60% missing values. (This method does not one-hot encode the features first)."
   ]
  },
  {
   "cell_type": "code",
   "execution_count": 117,
   "metadata": {},
   "outputs": [
    {
     "name": "stdout",
     "output_type": "stream",
     "text": [
      "0 features with greater than 0.60 missing values.\n",
      "\n"
     ]
    }
   ],
   "source": [
    "fs.identify_missing(missing_threshold=0.6)"
   ]
  },
  {
   "cell_type": "markdown",
   "metadata": {},
   "source": [
    "The features identified for removal can be accessed through the `ops` dictionary of the `FeatureSelector` object. "
   ]
  },
  {
   "cell_type": "code",
   "execution_count": 118,
   "metadata": {},
   "outputs": [
    {
     "data": {
      "text/plain": [
       "[]"
      ]
     },
     "execution_count": 118,
     "metadata": {},
     "output_type": "execute_result"
    }
   ],
   "source": [
    "missing_features = fs.ops['missing']\n",
    "missing_features[:10]"
   ]
  },
  {
   "cell_type": "markdown",
   "metadata": {},
   "source": [
    "We can also plot a histogram of the missing column fraction for all columns in the dataset."
   ]
  },
  {
   "cell_type": "code",
   "execution_count": 119,
   "metadata": {},
   "outputs": [
    {
     "data": {
      "image/png": "[encoded data removed]",
      "text/plain": [
       "<Figure size 700x500 with 1 Axes>"
      ]
     },
     "metadata": {},
     "output_type": "display_data"
    }
   ],
   "source": [
    "fs.plot_missing()"
   ]
  },
  {
   "cell_type": "markdown",
   "metadata": {},
   "source": [
    "For detailed information on the missing fractions, we can access the `missing_stats` attribute, a dataframe of the missing fractions for all features."
   ]
  },
  {
   "cell_type": "code",
   "execution_count": 120,
   "metadata": {},
   "outputs": [
    {
     "data": {
      "text/html": [
       "<div>\n",
       "<style scoped>\n",
       "    .dataframe tbody tr th:only-of-type {\n",
       "        vertical-align: middle;\n",
       "    }\n",
       "\n",
       "    .dataframe tbody tr th {\n",
       "        vertical-align: top;\n",
       "    }\n",
       "\n",
       "    .dataframe thead th {\n",
       "        text-align: right;\n",
       "    }\n",
       "</style>\n",
       "<table border=\"1\" class=\"dataframe\">\n",
       "  <thead>\n",
       "    <tr style=\"text-align: right;\">\n",
       "      <th></th>\n",
       "      <th>missing_fraction</th>\n",
       "    </tr>\n",
       "  </thead>\n",
       "  <tbody>\n",
       "    <tr>\n",
       "      <th>HOME</th>\n",
       "      <td>0.0</td>\n",
       "    </tr>\n",
       "    <tr>\n",
       "      <th>Weight_off</th>\n",
       "      <td>0.0</td>\n",
       "    </tr>\n",
       "    <tr>\n",
       "      <th>TS%_off</th>\n",
       "      <td>0.0</td>\n",
       "    </tr>\n",
       "    <tr>\n",
       "      <th>3PAr_off</th>\n",
       "      <td>0.0</td>\n",
       "    </tr>\n",
       "    <tr>\n",
       "      <th>FTr_off</th>\n",
       "      <td>0.0</td>\n",
       "    </tr>\n",
       "    <tr>\n",
       "      <th>TOV%_off</th>\n",
       "      <td>0.0</td>\n",
       "    </tr>\n",
       "    <tr>\n",
       "      <th>USG%_off</th>\n",
       "      <td>0.0</td>\n",
       "    </tr>\n",
       "    <tr>\n",
       "      <th>OWS_off</th>\n",
       "      <td>0.0</td>\n",
       "    </tr>\n",
       "    <tr>\n",
       "      <th>WS_off</th>\n",
       "      <td>0.0</td>\n",
       "    </tr>\n",
       "    <tr>\n",
       "      <th>OBPM_off</th>\n",
       "      <td>0.0</td>\n",
       "    </tr>\n",
       "  </tbody>\n",
       "</table>\n",
       "</div>"
      ],
      "text/plain": [
       "            missing_fraction\n",
       "HOME                     0.0\n",
       "Weight_off               0.0\n",
       "TS%_off                  0.0\n",
       "3PAr_off                 0.0\n",
       "FTr_off                  0.0\n",
       "TOV%_off                 0.0\n",
       "USG%_off                 0.0\n",
       "OWS_off                  0.0\n",
       "WS_off                   0.0\n",
       "OBPM_off                 0.0"
      ]
     },
     "execution_count": 120,
     "metadata": {},
     "output_type": "execute_result"
    }
   ],
   "source": [
    "fs.missing_stats.head(10)"
   ]
  },
  {
   "cell_type": "markdown",
   "metadata": {},
   "source": [
    "# 2. Single Unique Value\n",
    "\n",
    "The next method is straightforward: find any features that have only a single unique value. (This does not one-hot encode the features)."
   ]
  },
  {
   "cell_type": "code",
   "execution_count": 121,
   "metadata": {},
   "outputs": [
    {
     "name": "stdout",
     "output_type": "stream",
     "text": [
      "0 features with a single unique value.\n",
      "\n"
     ]
    }
   ],
   "source": [
    "fs.identify_single_unique()"
   ]
  },
  {
   "cell_type": "code",
   "execution_count": 122,
   "metadata": {},
   "outputs": [
    {
     "data": {
      "text/plain": [
       "[]"
      ]
     },
     "execution_count": 122,
     "metadata": {},
     "output_type": "execute_result"
    }
   ],
   "source": [
    "single_unique = fs.ops['single_unique']\n",
    "single_unique"
   ]
  },
  {
   "cell_type": "markdown",
   "metadata": {},
   "source": [
    "We can plot a histogram of the number of unique values in each feature of the dataset."
   ]
  },
  {
   "cell_type": "code",
   "execution_count": 123,
   "metadata": {},
   "outputs": [
    {
     "data": {
      "image/png": "[encoded data removed]",
      "text/plain": [
       "<Figure size 700x500 with 1 Axes>"
      ]
     },
     "metadata": {},
     "output_type": "display_data"
    }
   ],
   "source": [
    "fs.plot_unique()"
   ]
  },
  {
   "cell_type": "markdown",
   "metadata": {},
   "source": [
    "Finally, we can access a dataframe with the number of unique values per feature."
   ]
  },
  {
   "cell_type": "code",
   "execution_count": 124,
   "metadata": {},
   "outputs": [
    {
     "data": {
      "text/html": [
       "<div>\n",
       "<style scoped>\n",
       "    .dataframe tbody tr th:only-of-type {\n",
       "        vertical-align: middle;\n",
       "    }\n",
       "\n",
       "    .dataframe tbody tr th {\n",
       "        vertical-align: top;\n",
       "    }\n",
       "\n",
       "    .dataframe thead th {\n",
       "        text-align: right;\n",
       "    }\n",
       "</style>\n",
       "<table border=\"1\" class=\"dataframe\">\n",
       "  <thead>\n",
       "    <tr style=\"text-align: right;\">\n",
       "      <th></th>\n",
       "      <th>nunique</th>\n",
       "    </tr>\n",
       "  </thead>\n",
       "  <tbody>\n",
       "    <tr>\n",
       "      <th>OBPM_off</th>\n",
       "      <td>87</td>\n",
       "    </tr>\n",
       "    <tr>\n",
       "      <th>HOME</th>\n",
       "      <td>2</td>\n",
       "    </tr>\n",
       "    <tr>\n",
       "      <th>Weight_def</th>\n",
       "      <td>52</td>\n",
       "    </tr>\n",
       "    <tr>\n",
       "      <th>Weight_off</th>\n",
       "      <td>46</td>\n",
       "    </tr>\n",
       "    <tr>\n",
       "      <th>Height_off</th>\n",
       "      <td>18</td>\n",
       "    </tr>\n",
       "  </tbody>\n",
       "</table>\n",
       "</div>"
      ],
      "text/plain": [
       "            nunique\n",
       "OBPM_off         87\n",
       "HOME              2\n",
       "Weight_def       52\n",
       "Weight_off       46\n",
       "Height_off       18"
      ]
     },
     "execution_count": 124,
     "metadata": {},
     "output_type": "execute_result"
    }
   ],
   "source": [
    "fs.unique_stats.sample(5)"
   ]
  },
  {
   "cell_type": "markdown",
   "metadata": {},
   "source": [
    "# 3. Collinear (highly correlated) Features\n",
    "\n",
    "This method finds pairs of collinear features based on the Pearson correlation coefficient. For each pair above the specified threshold (in terms of absolute value), it identifies one of the variables to be removed. We need to pass in a `correlation_threshold`. \n",
    "\n",
    "This method is based on code found at https://chrisalbon.com/machine_learning/feature_selection/drop_highly_correlated_features/\n",
    "\n",
    "For each pair, the feature that will be removed is the one that comes last in terms of the column ordering in the dataframe. (This method does not one-hot encode the data beforehand unless `one_hot=True`. Therefore correlations are only calculated between numeric columns)"
   ]
  },
  {
   "cell_type": "code",
   "execution_count": 125,
   "metadata": {},
   "outputs": [
    {
     "name": "stdout",
     "output_type": "stream",
     "text": [
      "28 features with a correlation magnitude greater than 0.50.\n",
      "\n"
     ]
    }
   ],
   "source": [
    "fs.identify_collinear(correlation_threshold=0.5)"
   ]
  },
  {
   "cell_type": "code",
   "execution_count": 126,
   "metadata": {},
   "outputs": [
    {
     "data": {
      "text/plain": [
       "['PERIOD',\n",
       " 'TOUCH_TIME',\n",
       " 'CLOSE_DEF_DIST',\n",
       " 'Weight_def',\n",
       " 'ORB%_def',\n",
       " 'DRB%_def',\n",
       " 'TRB%_def',\n",
       " 'BLK%_def',\n",
       " 'WS_def',\n",
       " 'DBPM_def',\n",
       " 'PF_def',\n",
       " 'Weight_off',\n",
       " '3PAr_off',\n",
       " 'OWS_off',\n",
       " 'WS_off',\n",
       " 'OBPM_off',\n",
       " 'FG_off',\n",
       " 'FGA_off',\n",
       " 'FG%_off',\n",
       " '3P_off',\n",
       " '3PA_off',\n",
       " '3P%_off',\n",
       " '2P_off',\n",
       " '2PA_off']"
      ]
     },
     "execution_count": 126,
     "metadata": {},
     "output_type": "execute_result"
    }
   ],
   "source": [
    "correlated_features = fs.ops['collinear']\n",
    "correlated_features[:24]"
   ]
  },
  {
   "cell_type": "markdown",
   "metadata": {},
   "source": [
    "We can view a heatmap of the correlations above the threhold. The features which will be dropped are on the x-axis. "
   ]
  },
  {
   "cell_type": "code",
   "execution_count": 30,
   "metadata": {},
   "outputs": [
    {
     "data": {
      "image/png": "[encoded data removed]",
      "text/plain": [
       "<Figure size 1000x800 with 2 Axes>"
      ]
     },
     "metadata": {},
     "output_type": "display_data"
    }
   ],
   "source": [
    "fs.plot_collinear()"
   ]
  },
  {
   "cell_type": "markdown",
   "metadata": {},
   "source": [
    "To plot all of the correlations in the data, we can pass in `plot_all = True` to the `plot_collinear` function. "
   ]
  },
  {
   "cell_type": "code",
   "execution_count": 31,
   "metadata": {},
   "outputs": [
    {
     "data": {
      "image/png": "[encoded data removed]",
      "text/plain": [
       "<Figure size 1000x800 with 2 Axes>"
      ]
     },
     "metadata": {},
     "output_type": "display_data"
    }
   ],
   "source": [
    "fs.plot_collinear(plot_all=True)"
   ]
  },
  {
   "cell_type": "code",
   "execution_count": 111,
   "metadata": {
    "scrolled": true
   },
   "outputs": [
    {
     "name": "stdout",
     "output_type": "stream",
     "text": [
      "24 features with a correlation magnitude greater than 0.60.\n",
      "\n"
     ]
    },
    {
     "data": {
      "image/png": "[encoded data removed]",
      "text/plain": [
       "<Figure size 1000x800 with 2 Axes>"
      ]
     },
     "metadata": {},
     "output_type": "display_data"
    }
   ],
   "source": [
    "fs.identify_collinear(correlation_threshold=0.6)\n",
    "fs.plot_collinear()"
   ]
  },
  {
   "cell_type": "markdown",
   "metadata": {},
   "source": [
    "To view the details of the corelations above the threshold, we access the `record_collinear` attribute which is a dataframe. The `drop_feature` will be removed and for each feature that will be removed, there may be several correlations it has with the `corr_feature` that are above the `correlation_threshold`."
   ]
  },
  {
   "cell_type": "code",
   "execution_count": 33,
   "metadata": {},
   "outputs": [
    {
     "data": {
      "text/html": [
       "<div>\n",
       "<style scoped>\n",
       "    .dataframe tbody tr th:only-of-type {\n",
       "        vertical-align: middle;\n",
       "    }\n",
       "\n",
       "    .dataframe tbody tr th {\n",
       "        vertical-align: top;\n",
       "    }\n",
       "\n",
       "    .dataframe thead th {\n",
       "        text-align: right;\n",
       "    }\n",
       "</style>\n",
       "<table border=\"1\" class=\"dataframe\">\n",
       "  <thead>\n",
       "    <tr style=\"text-align: right;\">\n",
       "      <th></th>\n",
       "      <th>drop_feature</th>\n",
       "      <th>corr_feature</th>\n",
       "      <th>corr_value</th>\n",
       "    </tr>\n",
       "  </thead>\n",
       "  <tbody>\n",
       "    <tr>\n",
       "      <th>0</th>\n",
       "      <td>TOUCH_TIME</td>\n",
       "      <td>DRIBBLES</td>\n",
       "      <td>0.931226</td>\n",
       "    </tr>\n",
       "    <tr>\n",
       "      <th>1</th>\n",
       "      <td>Weight_def</td>\n",
       "      <td>Height_def</td>\n",
       "      <td>0.847111</td>\n",
       "    </tr>\n",
       "    <tr>\n",
       "      <th>2</th>\n",
       "      <td>TRB%_def</td>\n",
       "      <td>ORB%_def</td>\n",
       "      <td>0.920680</td>\n",
       "    </tr>\n",
       "    <tr>\n",
       "      <th>3</th>\n",
       "      <td>TRB%_def</td>\n",
       "      <td>DRB%_def</td>\n",
       "      <td>0.967089</td>\n",
       "    </tr>\n",
       "    <tr>\n",
       "      <th>4</th>\n",
       "      <td>Weight_off</td>\n",
       "      <td>Height_off</td>\n",
       "      <td>0.860958</td>\n",
       "    </tr>\n",
       "  </tbody>\n",
       "</table>\n",
       "</div>"
      ],
      "text/plain": [
       "  drop_feature corr_feature  corr_value\n",
       "0   TOUCH_TIME     DRIBBLES    0.931226\n",
       "1   Weight_def   Height_def    0.847111\n",
       "2     TRB%_def     ORB%_def    0.920680\n",
       "3     TRB%_def     DRB%_def    0.967089\n",
       "4   Weight_off   Height_off    0.860958"
      ]
     },
     "execution_count": 33,
     "metadata": {},
     "output_type": "execute_result"
    }
   ],
   "source": [
    "fs.record_collinear.head()"
   ]
  },
  {
   "cell_type": "markdown",
   "metadata": {},
   "source": [
    "# 4. Zero Importance Features\n",
    "\n",
    "This method relies on a machine learning model to identify features to remove. It therefore requires a supervised learning problem with labels. The method works by finding feature importances using a gradient boosting machine implemented in the [LightGBM library](http://lightgbm.readthedocs.io/en/latest/Quick-Start.html). \n",
    "\n",
    "To reduce variance in the calculated feature importances, the model is trained a default 10 times. The model is also by default trained with early stopping using a validation set (15% of the training data) to identify the optimal number of estimators to train. The following parameters can be passed to the `identify_zero_importance` method:\n",
    "\n",
    "* `task`: either `classification` or `regression`. The metric and labels must match with the task\n",
    "* `eval_metric`: the metric used for early stopping (for example `auc` for classification or `l2` for regression). To see a list of available metrics, refer to the [LightGBM docs](http://testlightgbm.readthedocs.io/en/latest/Parameters.html#metric-parameters)\n",
    "* `n_iterations`: number of training runs. The feature importances are averaged over the training runs (default = 10)\n",
    "* `early_stopping`: whether to use early stopping when training the model (default = True). [Early stopping](https://en.wikipedia.org/wiki/Early_stopping) stops training estimators (decision trees) when the performance on a validation set no longer decreases for a specified number of estimators (100 by default in this implementation). Early stopping is a form of regularization used to prevent overfitting to training data\n",
    "\n",
    "The data is first one-hot encoded for use in the model. This means that some of the zero importance features may be created from one-hot encoding. To view the one-hot encoded columns, we can access the `one_hot_features` of the `FeatureSelector`.\n",
    "\n",
    "__Note of caution__: in contrast to the other methods, the feature imporances from a model are non-deterministic (have a little randomness). The results of running this method can change each time it is run. "
   ]
  },
  {
   "cell_type": "code",
   "execution_count": 142,
   "metadata": {},
   "outputs": [
    {
     "name": "stdout",
     "output_type": "stream",
     "text": [
      "Training Gradient Boosting Model\n",
      "\n",
      "Training until validation scores don't improve for 100 rounds.\n",
      "Early stopping, best iteration is:\n",
      "[125]\tvalid_0's auc: 0.642098\tvalid_0's binary_logloss: 0.647439\n",
      "Training until validation scores don't improve for 100 rounds.\n",
      "Early stopping, best iteration is:\n",
      "[104]\tvalid_0's auc: 0.648578\tvalid_0's binary_logloss: 0.64423\n",
      "Training until validation scores don't improve for 100 rounds.\n",
      "Early stopping, best iteration is:\n",
      "[91]\tvalid_0's auc: 0.646669\tvalid_0's binary_logloss: 0.645395\n",
      "Training until validation scores don't improve for 100 rounds.\n",
      "Early stopping, best iteration is:\n",
      "[91]\tvalid_0's auc: 0.647474\tvalid_0's binary_logloss: 0.645089\n",
      "Training until validation scores don't improve for 100 rounds.\n",
      "Early stopping, best iteration is:\n",
      "[134]\tvalid_0's auc: 0.651335\tvalid_0's binary_logloss: 0.640753\n",
      "Training until validation scores don't improve for 100 rounds.\n",
      "Early stopping, best iteration is:\n",
      "[133]\tvalid_0's auc: 0.647338\tvalid_0's binary_logloss: 0.645709\n",
      "Training until validation scores don't improve for 100 rounds.\n",
      "Early stopping, best iteration is:\n",
      "[90]\tvalid_0's auc: 0.653757\tvalid_0's binary_logloss: 0.642572\n",
      "Training until validation scores don't improve for 100 rounds.\n",
      "Early stopping, best iteration is:\n",
      "[153]\tvalid_0's auc: 0.641833\tvalid_0's binary_logloss: 0.646341\n",
      "Training until validation scores don't improve for 100 rounds.\n",
      "Early stopping, best iteration is:\n",
      "[94]\tvalid_0's auc: 0.651158\tvalid_0's binary_logloss: 0.643659\n",
      "Training until validation scores don't improve for 100 rounds.\n",
      "Early stopping, best iteration is:\n",
      "[151]\tvalid_0's auc: 0.642018\tvalid_0's binary_logloss: 0.646268\n",
      "\n",
      "0 features with zero importance after one-hot encoding.\n",
      "\n"
     ]
    }
   ],
   "source": [
    "fs.identify_zero_importance(task = 'classification', eval_metric = 'auc', \n",
    "                            n_iterations = 10, early_stopping = True)"
   ]
  },
  {
   "cell_type": "markdown",
   "metadata": {},
   "source": [
    "Running the gradient boosting model requires one hot encoding the features. These features are saved in the `one_hot_features` attribute of the `FeatureSelector`. The original features are saved in the `base_features`."
   ]
  },
  {
   "cell_type": "code",
   "execution_count": 143,
   "metadata": {},
   "outputs": [
    {
     "name": "stdout",
     "output_type": "stream",
     "text": [
      "There are 45 original features\n",
      "There are 0 one-hot features\n"
     ]
    }
   ],
   "source": [
    "one_hot_features = fs.one_hot_features\n",
    "base_features = fs.base_features\n",
    "print('There are %d original features' % len(base_features))\n",
    "print('There are %d one-hot features' % len(one_hot_features))"
   ]
  },
  {
   "cell_type": "markdown",
   "metadata": {},
   "source": [
    "The `data` attribute of the `FeatureSelector` holds the original dataframe. After one-hot encoding, the `data_all` attribute holds the original data plus the one-hot encoded features."
   ]
  },
  {
   "cell_type": "code",
   "execution_count": 36,
   "metadata": {},
   "outputs": [
    {
     "data": {
      "text/html": [
       "<div>\n",
       "<style scoped>\n",
       "    .dataframe tbody tr th:only-of-type {\n",
       "        vertical-align: middle;\n",
       "    }\n",
       "\n",
       "    .dataframe tbody tr th {\n",
       "        vertical-align: top;\n",
       "    }\n",
       "\n",
       "    .dataframe thead th {\n",
       "        text-align: right;\n",
       "    }\n",
       "</style>\n",
       "<table border=\"1\" class=\"dataframe\">\n",
       "  <thead>\n",
       "    <tr style=\"text-align: right;\">\n",
       "      <th></th>\n",
       "      <th>HOME</th>\n",
       "      <th>SHOT_NUMBER</th>\n",
       "      <th>PERIOD</th>\n",
       "      <th>SHOT_CLOCK</th>\n",
       "      <th>DRIBBLES</th>\n",
       "      <th>TOUCH_TIME</th>\n",
       "      <th>SHOT_DIS</th>\n",
       "      <th>CLOSE_DEF_DIST</th>\n",
       "      <th>Height_def</th>\n",
       "      <th>Weight_def</th>\n",
       "      <th>...</th>\n",
       "      <th>FG%_off</th>\n",
       "      <th>3P_off</th>\n",
       "      <th>3PA_off</th>\n",
       "      <th>3P%_off</th>\n",
       "      <th>2P_off</th>\n",
       "      <th>2PA_off</th>\n",
       "      <th>2P%_off</th>\n",
       "      <th>eFG%_off</th>\n",
       "      <th>TOV_off</th>\n",
       "      <th>PTS_off</th>\n",
       "    </tr>\n",
       "  </thead>\n",
       "  <tbody>\n",
       "    <tr>\n",
       "      <th>0</th>\n",
       "      <td>0</td>\n",
       "      <td>12</td>\n",
       "      <td>4</td>\n",
       "      <td>9.4</td>\n",
       "      <td>1</td>\n",
       "      <td>2.1</td>\n",
       "      <td>6.83</td>\n",
       "      <td>0.64</td>\n",
       "      <td>196</td>\n",
       "      <td>90</td>\n",
       "      <td>...</td>\n",
       "      <td>0.434</td>\n",
       "      <td>112</td>\n",
       "      <td>313</td>\n",
       "      <td>0.358</td>\n",
       "      <td>219</td>\n",
       "      <td>450</td>\n",
       "      <td>0.487</td>\n",
       "      <td>0.507</td>\n",
       "      <td>73</td>\n",
       "      <td>845</td>\n",
       "    </tr>\n",
       "    <tr>\n",
       "      <th>1</th>\n",
       "      <td>0</td>\n",
       "      <td>7</td>\n",
       "      <td>4</td>\n",
       "      <td>13.0</td>\n",
       "      <td>1</td>\n",
       "      <td>3.6</td>\n",
       "      <td>3.57</td>\n",
       "      <td>1.10</td>\n",
       "      <td>196</td>\n",
       "      <td>90</td>\n",
       "      <td>...</td>\n",
       "      <td>0.396</td>\n",
       "      <td>167</td>\n",
       "      <td>446</td>\n",
       "      <td>0.374</td>\n",
       "      <td>132</td>\n",
       "      <td>310</td>\n",
       "      <td>0.426</td>\n",
       "      <td>0.506</td>\n",
       "      <td>128</td>\n",
       "      <td>943</td>\n",
       "    </tr>\n",
       "    <tr>\n",
       "      <th>2</th>\n",
       "      <td>1</td>\n",
       "      <td>8</td>\n",
       "      <td>2</td>\n",
       "      <td>16.2</td>\n",
       "      <td>9</td>\n",
       "      <td>7.0</td>\n",
       "      <td>1.52</td>\n",
       "      <td>1.46</td>\n",
       "      <td>211</td>\n",
       "      <td>122</td>\n",
       "      <td>...</td>\n",
       "      <td>0.485</td>\n",
       "      <td>139</td>\n",
       "      <td>349</td>\n",
       "      <td>0.398</td>\n",
       "      <td>429</td>\n",
       "      <td>821</td>\n",
       "      <td>0.523</td>\n",
       "      <td>0.545</td>\n",
       "      <td>190</td>\n",
       "      <td>1564</td>\n",
       "    </tr>\n",
       "    <tr>\n",
       "      <th>3</th>\n",
       "      <td>1</td>\n",
       "      <td>5</td>\n",
       "      <td>1</td>\n",
       "      <td>0.0</td>\n",
       "      <td>1</td>\n",
       "      <td>1.4</td>\n",
       "      <td>8.93</td>\n",
       "      <td>1.95</td>\n",
       "      <td>211</td>\n",
       "      <td>122</td>\n",
       "      <td>...</td>\n",
       "      <td>0.487</td>\n",
       "      <td>286</td>\n",
       "      <td>646</td>\n",
       "      <td>0.443</td>\n",
       "      <td>367</td>\n",
       "      <td>695</td>\n",
       "      <td>0.528</td>\n",
       "      <td>0.594</td>\n",
       "      <td>249</td>\n",
       "      <td>1900</td>\n",
       "    </tr>\n",
       "    <tr>\n",
       "      <th>4</th>\n",
       "      <td>1</td>\n",
       "      <td>10</td>\n",
       "      <td>2</td>\n",
       "      <td>19.8</td>\n",
       "      <td>2</td>\n",
       "      <td>3.0</td>\n",
       "      <td>0.73</td>\n",
       "      <td>0.98</td>\n",
       "      <td>211</td>\n",
       "      <td>122</td>\n",
       "      <td>...</td>\n",
       "      <td>0.468</td>\n",
       "      <td>157</td>\n",
       "      <td>378</td>\n",
       "      <td>0.415</td>\n",
       "      <td>421</td>\n",
       "      <td>857</td>\n",
       "      <td>0.491</td>\n",
       "      <td>0.532</td>\n",
       "      <td>186</td>\n",
       "      <td>1628</td>\n",
       "    </tr>\n",
       "    <tr>\n",
       "      <th>5</th>\n",
       "      <td>1</td>\n",
       "      <td>14</td>\n",
       "      <td>3</td>\n",
       "      <td>7.4</td>\n",
       "      <td>4</td>\n",
       "      <td>3.5</td>\n",
       "      <td>1.13</td>\n",
       "      <td>0.37</td>\n",
       "      <td>211</td>\n",
       "      <td>122</td>\n",
       "      <td>...</td>\n",
       "      <td>0.468</td>\n",
       "      <td>157</td>\n",
       "      <td>378</td>\n",
       "      <td>0.415</td>\n",
       "      <td>421</td>\n",
       "      <td>857</td>\n",
       "      <td>0.491</td>\n",
       "      <td>0.532</td>\n",
       "      <td>186</td>\n",
       "      <td>1628</td>\n",
       "    </tr>\n",
       "    <tr>\n",
       "      <th>6</th>\n",
       "      <td>1</td>\n",
       "      <td>20</td>\n",
       "      <td>4</td>\n",
       "      <td>16.0</td>\n",
       "      <td>7</td>\n",
       "      <td>7.3</td>\n",
       "      <td>0.46</td>\n",
       "      <td>1.04</td>\n",
       "      <td>211</td>\n",
       "      <td>122</td>\n",
       "      <td>...</td>\n",
       "      <td>0.468</td>\n",
       "      <td>157</td>\n",
       "      <td>378</td>\n",
       "      <td>0.415</td>\n",
       "      <td>421</td>\n",
       "      <td>857</td>\n",
       "      <td>0.491</td>\n",
       "      <td>0.532</td>\n",
       "      <td>186</td>\n",
       "      <td>1628</td>\n",
       "    </tr>\n",
       "    <tr>\n",
       "      <th>7</th>\n",
       "      <td>1</td>\n",
       "      <td>10</td>\n",
       "      <td>3</td>\n",
       "      <td>17.0</td>\n",
       "      <td>6</td>\n",
       "      <td>6.3</td>\n",
       "      <td>0.30</td>\n",
       "      <td>0.09</td>\n",
       "      <td>211</td>\n",
       "      <td>122</td>\n",
       "      <td>...</td>\n",
       "      <td>0.468</td>\n",
       "      <td>157</td>\n",
       "      <td>378</td>\n",
       "      <td>0.415</td>\n",
       "      <td>421</td>\n",
       "      <td>857</td>\n",
       "      <td>0.491</td>\n",
       "      <td>0.532</td>\n",
       "      <td>186</td>\n",
       "      <td>1628</td>\n",
       "    </tr>\n",
       "    <tr>\n",
       "      <th>8</th>\n",
       "      <td>1</td>\n",
       "      <td>15</td>\n",
       "      <td>4</td>\n",
       "      <td>13.5</td>\n",
       "      <td>0</td>\n",
       "      <td>1.5</td>\n",
       "      <td>0.88</td>\n",
       "      <td>0.55</td>\n",
       "      <td>211</td>\n",
       "      <td>122</td>\n",
       "      <td>...</td>\n",
       "      <td>0.468</td>\n",
       "      <td>157</td>\n",
       "      <td>378</td>\n",
       "      <td>0.415</td>\n",
       "      <td>421</td>\n",
       "      <td>857</td>\n",
       "      <td>0.491</td>\n",
       "      <td>0.532</td>\n",
       "      <td>186</td>\n",
       "      <td>1628</td>\n",
       "    </tr>\n",
       "    <tr>\n",
       "      <th>9</th>\n",
       "      <td>1</td>\n",
       "      <td>4</td>\n",
       "      <td>1</td>\n",
       "      <td>8.6</td>\n",
       "      <td>3</td>\n",
       "      <td>4.9</td>\n",
       "      <td>5.21</td>\n",
       "      <td>1.25</td>\n",
       "      <td>211</td>\n",
       "      <td>122</td>\n",
       "      <td>...</td>\n",
       "      <td>0.426</td>\n",
       "      <td>86</td>\n",
       "      <td>288</td>\n",
       "      <td>0.299</td>\n",
       "      <td>541</td>\n",
       "      <td>1183</td>\n",
       "      <td>0.457</td>\n",
       "      <td>0.455</td>\n",
       "      <td>293</td>\n",
       "      <td>1886</td>\n",
       "    </tr>\n",
       "  </tbody>\n",
       "</table>\n",
       "<p>10 rows × 45 columns</p>\n",
       "</div>"
      ],
      "text/plain": [
       "   HOME  SHOT_NUMBER  PERIOD  SHOT_CLOCK  DRIBBLES  TOUCH_TIME  SHOT_DIS  \\\n",
       "0     0           12       4         9.4         1         2.1      6.83   \n",
       "1     0            7       4        13.0         1         3.6      3.57   \n",
       "2     1            8       2        16.2         9         7.0      1.52   \n",
       "3     1            5       1         0.0         1         1.4      8.93   \n",
       "4     1           10       2        19.8         2         3.0      0.73   \n",
       "5     1           14       3         7.4         4         3.5      1.13   \n",
       "6     1           20       4        16.0         7         7.3      0.46   \n",
       "7     1           10       3        17.0         6         6.3      0.30   \n",
       "8     1           15       4        13.5         0         1.5      0.88   \n",
       "9     1            4       1         8.6         3         4.9      5.21   \n",
       "\n",
       "   CLOSE_DEF_DIST  Height_def  Weight_def   ...     FG%_off  3P_off  3PA_off  \\\n",
       "0            0.64         196          90   ...       0.434     112      313   \n",
       "1            1.10         196          90   ...       0.396     167      446   \n",
       "2            1.46         211         122   ...       0.485     139      349   \n",
       "3            1.95         211         122   ...       0.487     286      646   \n",
       "4            0.98         211         122   ...       0.468     157      378   \n",
       "5            0.37         211         122   ...       0.468     157      378   \n",
       "6            1.04         211         122   ...       0.468     157      378   \n",
       "7            0.09         211         122   ...       0.468     157      378   \n",
       "8            0.55         211         122   ...       0.468     157      378   \n",
       "9            1.25         211         122   ...       0.426      86      288   \n",
       "\n",
       "   3P%_off  2P_off  2PA_off  2P%_off  eFG%_off  TOV_off  PTS_off  \n",
       "0    0.358     219      450    0.487     0.507       73      845  \n",
       "1    0.374     132      310    0.426     0.506      128      943  \n",
       "2    0.398     429      821    0.523     0.545      190     1564  \n",
       "3    0.443     367      695    0.528     0.594      249     1900  \n",
       "4    0.415     421      857    0.491     0.532      186     1628  \n",
       "5    0.415     421      857    0.491     0.532      186     1628  \n",
       "6    0.415     421      857    0.491     0.532      186     1628  \n",
       "7    0.415     421      857    0.491     0.532      186     1628  \n",
       "8    0.415     421      857    0.491     0.532      186     1628  \n",
       "9    0.299     541     1183    0.457     0.455      293     1886  \n",
       "\n",
       "[10 rows x 45 columns]"
      ]
     },
     "execution_count": 36,
     "metadata": {},
     "output_type": "execute_result"
    }
   ],
   "source": [
    "fs.data_all.head(10)"
   ]
  },
  {
   "cell_type": "markdown",
   "metadata": {},
   "source": [
    "There are a number of methods we can use to inspect the results of the feature importances. First we can access the list of features with zero importance. "
   ]
  },
  {
   "cell_type": "code",
   "execution_count": 144,
   "metadata": {},
   "outputs": [
    {
     "data": {
      "text/plain": [
       "[]"
      ]
     },
     "execution_count": 144,
     "metadata": {},
     "output_type": "execute_result"
    }
   ],
   "source": [
    "zero_importance_features = fs.ops['zero_importance']\n",
    "zero_importance_features[10:15]"
   ]
  },
  {
   "cell_type": "markdown",
   "metadata": {},
   "source": [
    "### Plot Feature Importances\n",
    "\n",
    "The feature importance plot using `plot_feature_importances` will show us the `plot_n` most important features (on a normalized scale where the features sum to 1). It also shows us the cumulative feature importance versus the number of features. \n",
    "\n",
    "When we plot the feature importances, we can pass in a `threshold` which identifies the number of features required to reach a specified cumulative feature importance. For example, `threshold = 0.99` will tell us the number of features needed to account for 99% of the total importance."
   ]
  },
  {
   "cell_type": "code",
   "execution_count": 145,
   "metadata": {},
   "outputs": [
    {
     "data": {
      "image/png": "[encoded data removed]",
      "text/plain": [
       "<Figure size 1000x600 with 1 Axes>"
      ]
     },
     "metadata": {},
     "output_type": "display_data"
    },
    {
     "data": {
      "image/png": "[encoded data removed]",
      "text/plain": [
       "<Figure size 600x400 with 1 Axes>"
      ]
     },
     "metadata": {},
     "output_type": "display_data"
    },
    {
     "name": "stdout",
     "output_type": "stream",
     "text": [
      "37 features required for 0.95 of cumulative importance\n"
     ]
    }
   ],
   "source": [
    "fs.plot_feature_importances(threshold = 0.95, plot_n = 12)"
   ]
  },
  {
   "cell_type": "markdown",
   "metadata": {},
   "source": [
    "All of the feature importances are accessible in the `feature_importances` attribute of the `FeatureSelector`"
   ]
  },
  {
   "cell_type": "code",
   "execution_count": 147,
   "metadata": {},
   "outputs": [
    {
     "data": {
      "text/html": [
       "<div>\n",
       "<style scoped>\n",
       "    .dataframe tbody tr th:only-of-type {\n",
       "        vertical-align: middle;\n",
       "    }\n",
       "\n",
       "    .dataframe tbody tr th {\n",
       "        vertical-align: top;\n",
       "    }\n",
       "\n",
       "    .dataframe thead th {\n",
       "        text-align: right;\n",
       "    }\n",
       "</style>\n",
       "<table border=\"1\" class=\"dataframe\">\n",
       "  <thead>\n",
       "    <tr style=\"text-align: right;\">\n",
       "      <th></th>\n",
       "      <th>feature</th>\n",
       "      <th>importance</th>\n",
       "      <th>normalized_importance</th>\n",
       "      <th>cumulative_importance</th>\n",
       "    </tr>\n",
       "  </thead>\n",
       "  <tbody>\n",
       "    <tr>\n",
       "      <th>0</th>\n",
       "      <td>CLOSE_DEF_DIST</td>\n",
       "      <td>485.9</td>\n",
       "      <td>0.138908</td>\n",
       "      <td>0.138908</td>\n",
       "    </tr>\n",
       "    <tr>\n",
       "      <th>1</th>\n",
       "      <td>SHOT_DIS</td>\n",
       "      <td>437.6</td>\n",
       "      <td>0.125100</td>\n",
       "      <td>0.264008</td>\n",
       "    </tr>\n",
       "    <tr>\n",
       "      <th>2</th>\n",
       "      <td>SHOT_CLOCK</td>\n",
       "      <td>286.6</td>\n",
       "      <td>0.081933</td>\n",
       "      <td>0.345941</td>\n",
       "    </tr>\n",
       "    <tr>\n",
       "      <th>3</th>\n",
       "      <td>TOUCH_TIME</td>\n",
       "      <td>275.0</td>\n",
       "      <td>0.078616</td>\n",
       "      <td>0.424557</td>\n",
       "    </tr>\n",
       "    <tr>\n",
       "      <th>4</th>\n",
       "      <td>BLK%_def</td>\n",
       "      <td>159.2</td>\n",
       "      <td>0.045512</td>\n",
       "      <td>0.470069</td>\n",
       "    </tr>\n",
       "    <tr>\n",
       "      <th>5</th>\n",
       "      <td>DBPM_def</td>\n",
       "      <td>101.5</td>\n",
       "      <td>0.029017</td>\n",
       "      <td>0.499085</td>\n",
       "    </tr>\n",
       "    <tr>\n",
       "      <th>6</th>\n",
       "      <td>3P%_off</td>\n",
       "      <td>89.8</td>\n",
       "      <td>0.025672</td>\n",
       "      <td>0.524757</td>\n",
       "    </tr>\n",
       "    <tr>\n",
       "      <th>7</th>\n",
       "      <td>2P%_off</td>\n",
       "      <td>87.8</td>\n",
       "      <td>0.025100</td>\n",
       "      <td>0.549857</td>\n",
       "    </tr>\n",
       "    <tr>\n",
       "      <th>8</th>\n",
       "      <td>TS%_off</td>\n",
       "      <td>70.5</td>\n",
       "      <td>0.020154</td>\n",
       "      <td>0.570011</td>\n",
       "    </tr>\n",
       "    <tr>\n",
       "      <th>9</th>\n",
       "      <td>DRIBBLES</td>\n",
       "      <td>70.5</td>\n",
       "      <td>0.020154</td>\n",
       "      <td>0.590166</td>\n",
       "    </tr>\n",
       "    <tr>\n",
       "      <th>10</th>\n",
       "      <td>USG%_off</td>\n",
       "      <td>69.5</td>\n",
       "      <td>0.019868</td>\n",
       "      <td>0.610034</td>\n",
       "    </tr>\n",
       "    <tr>\n",
       "      <th>11</th>\n",
       "      <td>FTr_off</td>\n",
       "      <td>68.3</td>\n",
       "      <td>0.019525</td>\n",
       "      <td>0.629560</td>\n",
       "    </tr>\n",
       "    <tr>\n",
       "      <th>12</th>\n",
       "      <td>STL%_def</td>\n",
       "      <td>67.4</td>\n",
       "      <td>0.019268</td>\n",
       "      <td>0.648828</td>\n",
       "    </tr>\n",
       "    <tr>\n",
       "      <th>13</th>\n",
       "      <td>FG%_off</td>\n",
       "      <td>65.1</td>\n",
       "      <td>0.018611</td>\n",
       "      <td>0.667439</td>\n",
       "    </tr>\n",
       "    <tr>\n",
       "      <th>14</th>\n",
       "      <td>TOV%_def</td>\n",
       "      <td>60.8</td>\n",
       "      <td>0.017381</td>\n",
       "      <td>0.684820</td>\n",
       "    </tr>\n",
       "    <tr>\n",
       "      <th>15</th>\n",
       "      <td>PF_def</td>\n",
       "      <td>57.7</td>\n",
       "      <td>0.016495</td>\n",
       "      <td>0.701315</td>\n",
       "    </tr>\n",
       "    <tr>\n",
       "      <th>16</th>\n",
       "      <td>USG%_def</td>\n",
       "      <td>57.1</td>\n",
       "      <td>0.016324</td>\n",
       "      <td>0.717639</td>\n",
       "    </tr>\n",
       "    <tr>\n",
       "      <th>17</th>\n",
       "      <td>TOV%_off</td>\n",
       "      <td>54.5</td>\n",
       "      <td>0.015580</td>\n",
       "      <td>0.733219</td>\n",
       "    </tr>\n",
       "    <tr>\n",
       "      <th>18</th>\n",
       "      <td>DRB%_def</td>\n",
       "      <td>53.2</td>\n",
       "      <td>0.015209</td>\n",
       "      <td>0.748428</td>\n",
       "    </tr>\n",
       "    <tr>\n",
       "      <th>19</th>\n",
       "      <td>OWS_off</td>\n",
       "      <td>53.2</td>\n",
       "      <td>0.015209</td>\n",
       "      <td>0.763636</td>\n",
       "    </tr>\n",
       "    <tr>\n",
       "      <th>20</th>\n",
       "      <td>TRB%_def</td>\n",
       "      <td>49.3</td>\n",
       "      <td>0.014094</td>\n",
       "      <td>0.777730</td>\n",
       "    </tr>\n",
       "    <tr>\n",
       "      <th>21</th>\n",
       "      <td>eFG%_off</td>\n",
       "      <td>48.3</td>\n",
       "      <td>0.013808</td>\n",
       "      <td>0.791538</td>\n",
       "    </tr>\n",
       "    <tr>\n",
       "      <th>22</th>\n",
       "      <td>WS_def</td>\n",
       "      <td>46.9</td>\n",
       "      <td>0.013408</td>\n",
       "      <td>0.804946</td>\n",
       "    </tr>\n",
       "    <tr>\n",
       "      <th>23</th>\n",
       "      <td>2P_off</td>\n",
       "      <td>43.3</td>\n",
       "      <td>0.012379</td>\n",
       "      <td>0.817324</td>\n",
       "    </tr>\n",
       "    <tr>\n",
       "      <th>24</th>\n",
       "      <td>ORB%_def</td>\n",
       "      <td>42.3</td>\n",
       "      <td>0.012093</td>\n",
       "      <td>0.829417</td>\n",
       "    </tr>\n",
       "    <tr>\n",
       "      <th>25</th>\n",
       "      <td>Age_off</td>\n",
       "      <td>42.1</td>\n",
       "      <td>0.012035</td>\n",
       "      <td>0.841452</td>\n",
       "    </tr>\n",
       "    <tr>\n",
       "      <th>26</th>\n",
       "      <td>Age_def</td>\n",
       "      <td>39.5</td>\n",
       "      <td>0.011292</td>\n",
       "      <td>0.852744</td>\n",
       "    </tr>\n",
       "    <tr>\n",
       "      <th>27</th>\n",
       "      <td>SHOT_NUMBER</td>\n",
       "      <td>39.5</td>\n",
       "      <td>0.011292</td>\n",
       "      <td>0.864037</td>\n",
       "    </tr>\n",
       "    <tr>\n",
       "      <th>28</th>\n",
       "      <td>DWS_def</td>\n",
       "      <td>38.3</td>\n",
       "      <td>0.010949</td>\n",
       "      <td>0.874986</td>\n",
       "    </tr>\n",
       "    <tr>\n",
       "      <th>29</th>\n",
       "      <td>3PAr_off</td>\n",
       "      <td>36.2</td>\n",
       "      <td>0.010349</td>\n",
       "      <td>0.885334</td>\n",
       "    </tr>\n",
       "    <tr>\n",
       "      <th>30</th>\n",
       "      <td>OBPM_off</td>\n",
       "      <td>34.2</td>\n",
       "      <td>0.009777</td>\n",
       "      <td>0.895111</td>\n",
       "    </tr>\n",
       "    <tr>\n",
       "      <th>31</th>\n",
       "      <td>FG_off</td>\n",
       "      <td>34.1</td>\n",
       "      <td>0.009748</td>\n",
       "      <td>0.904860</td>\n",
       "    </tr>\n",
       "    <tr>\n",
       "      <th>32</th>\n",
       "      <td>Weight_off</td>\n",
       "      <td>33.4</td>\n",
       "      <td>0.009548</td>\n",
       "      <td>0.914408</td>\n",
       "    </tr>\n",
       "    <tr>\n",
       "      <th>33</th>\n",
       "      <td>Weight_def</td>\n",
       "      <td>32.8</td>\n",
       "      <td>0.009377</td>\n",
       "      <td>0.923785</td>\n",
       "    </tr>\n",
       "    <tr>\n",
       "      <th>34</th>\n",
       "      <td>TOV_off</td>\n",
       "      <td>31.0</td>\n",
       "      <td>0.008862</td>\n",
       "      <td>0.932647</td>\n",
       "    </tr>\n",
       "    <tr>\n",
       "      <th>35</th>\n",
       "      <td>Height_def</td>\n",
       "      <td>30.8</td>\n",
       "      <td>0.008805</td>\n",
       "      <td>0.941452</td>\n",
       "    </tr>\n",
       "    <tr>\n",
       "      <th>36</th>\n",
       "      <td>WS_off</td>\n",
       "      <td>30.2</td>\n",
       "      <td>0.008634</td>\n",
       "      <td>0.950086</td>\n",
       "    </tr>\n",
       "  </tbody>\n",
       "</table>\n",
       "</div>"
      ],
      "text/plain": [
       "           feature  importance  normalized_importance  cumulative_importance\n",
       "0   CLOSE_DEF_DIST       485.9               0.138908               0.138908\n",
       "1         SHOT_DIS       437.6               0.125100               0.264008\n",
       "2       SHOT_CLOCK       286.6               0.081933               0.345941\n",
       "3       TOUCH_TIME       275.0               0.078616               0.424557\n",
       "4         BLK%_def       159.2               0.045512               0.470069\n",
       "5         DBPM_def       101.5               0.029017               0.499085\n",
       "6          3P%_off        89.8               0.025672               0.524757\n",
       "7          2P%_off        87.8               0.025100               0.549857\n",
       "8          TS%_off        70.5               0.020154               0.570011\n",
       "9         DRIBBLES        70.5               0.020154               0.590166\n",
       "10        USG%_off        69.5               0.019868               0.610034\n",
       "11         FTr_off        68.3               0.019525               0.629560\n",
       "12        STL%_def        67.4               0.019268               0.648828\n",
       "13         FG%_off        65.1               0.018611               0.667439\n",
       "14        TOV%_def        60.8               0.017381               0.684820\n",
       "15          PF_def        57.7               0.016495               0.701315\n",
       "16        USG%_def        57.1               0.016324               0.717639\n",
       "17        TOV%_off        54.5               0.015580               0.733219\n",
       "18        DRB%_def        53.2               0.015209               0.748428\n",
       "19         OWS_off        53.2               0.015209               0.763636\n",
       "20        TRB%_def        49.3               0.014094               0.777730\n",
       "21        eFG%_off        48.3               0.013808               0.791538\n",
       "22          WS_def        46.9               0.013408               0.804946\n",
       "23          2P_off        43.3               0.012379               0.817324\n",
       "24        ORB%_def        42.3               0.012093               0.829417\n",
       "25         Age_off        42.1               0.012035               0.841452\n",
       "26         Age_def        39.5               0.011292               0.852744\n",
       "27     SHOT_NUMBER        39.5               0.011292               0.864037\n",
       "28         DWS_def        38.3               0.010949               0.874986\n",
       "29        3PAr_off        36.2               0.010349               0.885334\n",
       "30        OBPM_off        34.2               0.009777               0.895111\n",
       "31          FG_off        34.1               0.009748               0.904860\n",
       "32      Weight_off        33.4               0.009548               0.914408\n",
       "33      Weight_def        32.8               0.009377               0.923785\n",
       "34         TOV_off        31.0               0.008862               0.932647\n",
       "35      Height_def        30.8               0.008805               0.941452\n",
       "36          WS_off        30.2               0.008634               0.950086"
      ]
     },
     "execution_count": 147,
     "metadata": {},
     "output_type": "execute_result"
    }
   ],
   "source": [
    "fs.feature_importances.head(37)"
   ]
  },
  {
   "cell_type": "markdown",
   "metadata": {},
   "source": [
    "We could use these results to select only the 'n' most important features. For example, if we want the top 100 most importance, we could do the following."
   ]
  },
  {
   "cell_type": "code",
   "execution_count": 104,
   "metadata": {},
   "outputs": [
    {
     "data": {
      "text/plain": [
       "45"
      ]
     },
     "execution_count": 104,
     "metadata": {},
     "output_type": "execute_result"
    }
   ],
   "source": [
    "one_hundred_features = list(fs.feature_importances.loc[:99, 'feature'])\n",
    "len(one_hundred_features)"
   ]
  },
  {
   "cell_type": "markdown",
   "metadata": {},
   "source": [
    "# 5. Low Importance Features\n",
    "\n",
    "This method builds off the feature importances from the gradient boosting machine (`identify_zero_importance` must be run first) by finding the lowest importance features not needed to reach a specified cumulative total feature importance. For example, if we pass in 0.99, this will find the lowest important features that are not needed to reach 99% of the total feature importance. \n",
    "\n",
    "When using this method, we must have already run `identify_zero_importance` and need to pass in a `cumulative_importance` that accounts for that fraction of total feature importance.\n",
    "\n",
    "__Note of caution__: this method builds on the gradient boosting model features importances and again is non-deterministic. I advise running these two methods several times with varying parameters and testing each resulting set of features rather than picking one number and sticking to it."
   ]
  },
  {
   "cell_type": "code",
   "execution_count": 105,
   "metadata": {},
   "outputs": [
    {
     "name": "stdout",
     "output_type": "stream",
     "text": [
      "36 features required for cumulative importance of 0.95 after one hot encoding.\n",
      "9 features do not contribute to cumulative importance of 0.95.\n",
      "\n"
     ]
    }
   ],
   "source": [
    "fs.identify_low_importance(cumulative_importance = 0.950)"
   ]
  },
  {
   "cell_type": "markdown",
   "metadata": {},
   "source": [
    "The low importance features to remove are those that do not contribute to the specified cumulative importance. These are also available in the `ops` dictionary. "
   ]
  },
  {
   "cell_type": "code",
   "execution_count": 108,
   "metadata": {},
   "outputs": [
    {
     "data": {
      "text/plain": [
       "['3P_off',\n",
       " 'PERIOD',\n",
       " 'TOV_off',\n",
       " 'Height_off',\n",
       " '2PA_off',\n",
       " 'FGA_off',\n",
       " 'PTS_off',\n",
       " '3PA_off',\n",
       " 'HOME']"
      ]
     },
     "execution_count": 108,
     "metadata": {},
     "output_type": "execute_result"
    }
   ],
   "source": [
    "low_importance_features = fs.ops['low_importance']\n",
    "low_importance_features[:9]"
   ]
  },
  {
   "cell_type": "markdown",
   "metadata": {},
   "source": [
    "# Removing Features\n",
    "\n",
    "Once we have identified the features to remove, we have a number of ways to drop the features. We can access any of the feature lists in the `removal_ops` dictionary and remove the columns manually. We also can use the `remove` method, passing in the methods that identified the features we want to remove.\n",
    "\n",
    "This method returns the resulting data which we can then use for machine learning. The original data will still be accessible in the `data` attribute of the Feature Selector.\n",
    "\n",
    "__Be careful__ of the methods used for removing features! It's a good idea to inspect the features that will be removed before using the `remove` function. "
   ]
  },
  {
   "cell_type": "code",
   "execution_count": 81,
   "metadata": {},
   "outputs": [
    {
     "name": "stdout",
     "output_type": "stream",
     "text": [
      "Removed 0 features.\n"
     ]
    }
   ],
   "source": [
    "train_no_missing = fs.remove(methods = ['missing'])"
   ]
  },
  {
   "cell_type": "code",
   "execution_count": 99,
   "metadata": {},
   "outputs": [
    {
     "name": "stdout",
     "output_type": "stream",
     "text": [
      "Removed 0 features.\n"
     ]
    }
   ],
   "source": [
    "train_no_missing_zero = fs.remove(methods = ['missing', 'zero_importance'])"
   ]
  },
  {
   "cell_type": "markdown",
   "metadata": {},
   "source": [
    "To remove the features from all of the methods, pass in `method='all'`. Before we do this, we can check how many features will be removed using `check_removal`. This returns a list of all the features that have been idenfitied for removal. "
   ]
  },
  {
   "cell_type": "code",
   "execution_count": 112,
   "metadata": {},
   "outputs": [
    {
     "name": "stdout",
     "output_type": "stream",
     "text": [
      "Total of 26 features identified for removal\n"
     ]
    },
    {
     "data": {
      "text/plain": [
       "['HOME',\n",
       " 'FG_off',\n",
       " 'Height_off',\n",
       " 'DRB%_def',\n",
       " 'FG%_off',\n",
       " 'eFG%_off',\n",
       " 'TOUCH_TIME',\n",
       " '2P%_off',\n",
       " 'Weight_def',\n",
       " 'OBPM_off',\n",
       " 'WS_def',\n",
       " 'TOV_off',\n",
       " '2P_off',\n",
       " 'BLK%_def',\n",
       " '2PA_off',\n",
       " 'FGA_off',\n",
       " 'WS_off',\n",
       " '3PA_off',\n",
       " 'TRB%_def',\n",
       " 'DBPM_def',\n",
       " 'ORB%_def',\n",
       " 'PERIOD',\n",
       " 'OWS_off',\n",
       " 'Weight_off',\n",
       " '3P_off']"
      ]
     },
     "execution_count": 112,
     "metadata": {},
     "output_type": "execute_result"
    }
   ],
   "source": [
    "all_to_remove = fs.check_removal()\n",
    "all_to_remove[1:26]"
   ]
  },
  {
   "cell_type": "markdown",
   "metadata": {},
   "source": [
    "Now we can remove all of the features idenfitied."
   ]
  },
  {
   "cell_type": "code",
   "execution_count": 100,
   "metadata": {},
   "outputs": [
    {
     "name": "stdout",
     "output_type": "stream",
     "text": [
      "['missing', 'collinear', 'single_unique', 'zero_importance', 'low_importance'] methods have been run\n",
      "\n",
      "Removed 22 features.\n"
     ]
    }
   ],
   "source": [
    "train_removed = fs.remove(methods = 'all')"
   ]
  },
  {
   "cell_type": "markdown",
   "metadata": {},
   "source": [
    "### Handling One-Hot Features\n",
    "\n",
    "If we look at the dataframe that is returned, we may notice several new columns that were not in the original data. These are created when the data is one-hot encoded for machine learning. To remove all the one-hot features, we can pass in `keep_one_hot = False` to the `remove` method. "
   ]
  },
  {
   "cell_type": "code",
   "execution_count": 72,
   "metadata": {},
   "outputs": [
    {
     "name": "stdout",
     "output_type": "stream",
     "text": [
      "['missing', 'collinear', 'single_unique', 'zero_importance', 'low_importance'] methods have been run\n",
      "\n",
      "Removed 26 features including one-hot features.\n"
     ]
    }
   ],
   "source": [
    "train_removed_all = fs.remove(methods = 'all', keep_one_hot=False)"
   ]
  },
  {
   "cell_type": "code",
   "execution_count": 127,
   "metadata": {},
   "outputs": [],
   "source": [
    "train_removed_all.to_csv('/Users/aruba/Desktop/英属哥伦比亚荣光🌅/COMM 414/shot_logs(original3).csv')"
   ]
  },
  {
   "cell_type": "code",
   "execution_count": 128,
   "metadata": {},
   "outputs": [
    {
     "name": "stdout",
     "output_type": "stream",
     "text": [
      "Original Number of Features 45\n",
      "Final Number of Features:  19\n"
     ]
    }
   ],
   "source": [
    "print('Original Number of Features', train.shape[1])\n",
    "print('Final Number of Features: ', train_removed_all.shape[1])"
   ]
  },
  {
   "cell_type": "markdown",
   "metadata": {},
   "source": [
    "# Alternative Option for Using all Methods\n",
    "\n",
    "If we don't want to run the identification methods one at a time, we can use `identify_all` to run all the methods in one call. For this function, we need to pass in a dictionary of parameters to use for each individual identification method. \n",
    "\n",
    "The following code accomplishes the above steps in one call."
   ]
  },
  {
   "cell_type": "code",
   "execution_count": 135,
   "metadata": {},
   "outputs": [
    {
     "name": "stdout",
     "output_type": "stream",
     "text": [
      "0 features with greater than 0.60 missing values.\n",
      "\n",
      "0 features with a single unique value.\n",
      "\n",
      "13 features with a correlation magnitude greater than 0.80.\n",
      "\n",
      "Training Gradient Boosting Model\n",
      "\n",
      "Training until validation scores don't improve for 100 rounds.\n",
      "Early stopping, best iteration is:\n",
      "[83]\tvalid_0's binary_logloss: 0.644801\tvalid_0's auc: 0.647246\n",
      "Training until validation scores don't improve for 100 rounds.\n",
      "Early stopping, best iteration is:\n",
      "[102]\tvalid_0's binary_logloss: 0.64297\tvalid_0's auc: 0.65234\n",
      "Training until validation scores don't improve for 100 rounds.\n",
      "Early stopping, best iteration is:\n",
      "[120]\tvalid_0's binary_logloss: 0.647217\tvalid_0's auc: 0.644308\n",
      "Training until validation scores don't improve for 100 rounds.\n",
      "Early stopping, best iteration is:\n",
      "[98]\tvalid_0's binary_logloss: 0.641146\tvalid_0's auc: 0.65319\n",
      "Training until validation scores don't improve for 100 rounds.\n",
      "Early stopping, best iteration is:\n",
      "[131]\tvalid_0's binary_logloss: 0.642527\tvalid_0's auc: 0.649996\n",
      "Training until validation scores don't improve for 100 rounds.\n",
      "Early stopping, best iteration is:\n",
      "[95]\tvalid_0's binary_logloss: 0.642487\tvalid_0's auc: 0.645848\n",
      "Training until validation scores don't improve for 100 rounds.\n",
      "Early stopping, best iteration is:\n",
      "[147]\tvalid_0's binary_logloss: 0.640388\tvalid_0's auc: 0.654385\n",
      "Training until validation scores don't improve for 100 rounds.\n",
      "Early stopping, best iteration is:\n",
      "[116]\tvalid_0's binary_logloss: 0.642942\tvalid_0's auc: 0.651384\n",
      "Training until validation scores don't improve for 100 rounds.\n",
      "Early stopping, best iteration is:\n",
      "[114]\tvalid_0's binary_logloss: 0.644158\tvalid_0's auc: 0.651637\n",
      "Training until validation scores don't improve for 100 rounds.\n",
      "Early stopping, best iteration is:\n",
      "[81]\tvalid_0's binary_logloss: 0.64608\tvalid_0's auc: 0.645284\n",
      "\n",
      "0 features with zero importance after one-hot encoding.\n",
      "\n",
      "42 features required for cumulative importance of 0.99 after one hot encoding.\n",
      "3 features do not contribute to cumulative importance of 0.99.\n",
      "\n",
      "14 total features out of 45 identified for removal after one-hot encoding.\n",
      "\n"
     ]
    }
   ],
   "source": [
    "fs = FeatureSelector(data = train, labels = train_labels)\n",
    "\n",
    "fs.identify_all(selection_params = {'missing_threshold': 0.6, 'correlation_threshold': 0.8, \n",
    "                                    'task': 'classification', 'eval_metric': 'auc', \n",
    "                                     'cumulative_importance': 0.99})"
   ]
  },
  {
   "cell_type": "code",
   "execution_count": 97,
   "metadata": {},
   "outputs": [
    {
     "name": "stdout",
     "output_type": "stream",
     "text": [
      "['missing', 'single_unique', 'collinear', 'zero_importance', 'low_importance'] methods have been run\n",
      "\n",
      "Removed 14 features.\n"
     ]
    }
   ],
   "source": [
    "train_removed_all_once = fs.remove(methods = 'all', keep_one_hot = True)"
   ]
  },
  {
   "cell_type": "code",
   "execution_count": 98,
   "metadata": {},
   "outputs": [
    {
     "data": {
      "text/html": [
       "<div>\n",
       "<style scoped>\n",
       "    .dataframe tbody tr th:only-of-type {\n",
       "        vertical-align: middle;\n",
       "    }\n",
       "\n",
       "    .dataframe tbody tr th {\n",
       "        vertical-align: top;\n",
       "    }\n",
       "\n",
       "    .dataframe thead th {\n",
       "        text-align: right;\n",
       "    }\n",
       "</style>\n",
       "<table border=\"1\" class=\"dataframe\">\n",
       "  <thead>\n",
       "    <tr style=\"text-align: right;\">\n",
       "      <th></th>\n",
       "      <th>feature</th>\n",
       "      <th>importance</th>\n",
       "      <th>normalized_importance</th>\n",
       "      <th>cumulative_importance</th>\n",
       "    </tr>\n",
       "  </thead>\n",
       "  <tbody>\n",
       "    <tr>\n",
       "      <th>0</th>\n",
       "      <td>CLOSE_DEF_DIST</td>\n",
       "      <td>507.6</td>\n",
       "      <td>0.130757</td>\n",
       "      <td>0.130757</td>\n",
       "    </tr>\n",
       "    <tr>\n",
       "      <th>1</th>\n",
       "      <td>SHOT_DIS</td>\n",
       "      <td>462.2</td>\n",
       "      <td>0.119062</td>\n",
       "      <td>0.249820</td>\n",
       "    </tr>\n",
       "    <tr>\n",
       "      <th>2</th>\n",
       "      <td>SHOT_CLOCK</td>\n",
       "      <td>316.3</td>\n",
       "      <td>0.081479</td>\n",
       "      <td>0.331298</td>\n",
       "    </tr>\n",
       "    <tr>\n",
       "      <th>3</th>\n",
       "      <td>TOUCH_TIME</td>\n",
       "      <td>290.5</td>\n",
       "      <td>0.074833</td>\n",
       "      <td>0.406131</td>\n",
       "    </tr>\n",
       "    <tr>\n",
       "      <th>4</th>\n",
       "      <td>BLK%_def</td>\n",
       "      <td>164.3</td>\n",
       "      <td>0.042324</td>\n",
       "      <td>0.448454</td>\n",
       "    </tr>\n",
       "  </tbody>\n",
       "</table>\n",
       "</div>"
      ],
      "text/plain": [
       "          feature  importance  normalized_importance  cumulative_importance\n",
       "0  CLOSE_DEF_DIST       507.6               0.130757               0.130757\n",
       "1        SHOT_DIS       462.2               0.119062               0.249820\n",
       "2      SHOT_CLOCK       316.3               0.081479               0.331298\n",
       "3      TOUCH_TIME       290.5               0.074833               0.406131\n",
       "4        BLK%_def       164.3               0.042324               0.448454"
      ]
     },
     "execution_count": 98,
     "metadata": {},
     "output_type": "execute_result"
    }
   ],
   "source": [
    "fs.feature_importances.head()"
   ]
  },
  {
   "cell_type": "markdown",
   "metadata": {},
   "source": [
    "There is a slight discrepancy between the number of features removed because the feature importances have changed. The number of features identified for removal by the `missing`, `single_unique`, and `collinear` will stay the same because they are deterministic, but the number of features from `zero_importance` and `low_importance` may vary due to training a model multiple times. "
   ]
  },
  {
   "cell_type": "code",
   "execution_count": 101,
   "metadata": {},
   "outputs": [],
   "source": [
    "train_removed_all_once.to_csv('/Users/aruba/Desktop/英属哥伦比亚荣光🌅/COMM 414/shot_logs(original3).csv')"
   ]
  },
  {
   "cell_type": "markdown",
   "metadata": {},
   "source": [
    "# Conclusions\n",
    "\n",
    "This notebook showed how to use the `FeatureSelector` class for removing features from a dataset. There are a few important notes from this implementation:\n",
    "\n",
    "* Feature importances will change on multiple runs of the machine learning model\n",
    "* Decide whether or not to keep the extra features created from one-hot encoding\n",
    "* Try out several different values for the various parameters to decide which ones work best for a machine learning task\n",
    "* The output of missing, single unique, and collinear will stay the same for the identical parameters\n",
    "* Feature selection is a critical step of a machine learning workflow that may require several iterations to optimize\n",
    "\n",
    "I appreciate any comments, feedback, or help on this project.\n",
    "\n",
    "Will"
   ]
  },
  {
   "cell_type": "code",
   "execution_count": null,
   "metadata": {},
   "outputs": [],
   "source": []
  }
 ],
 "metadata": {
  "kernelspec": {
   "display_name": "Python 3",
   "language": "python",
   "name": "python3"
  },
  "language_info": {
   "codemirror_mode": {
    "name": "ipython",
    "version": 3
   },
   "file_extension": ".py",
   "mimetype": "text/x-python",
   "name": "python",
   "nbconvert_exporter": "python",
   "pygments_lexer": "ipython3",
   "version": "3.7.0"
  }
 },
 "nbformat": 4,
 "nbformat_minor": 2
}
